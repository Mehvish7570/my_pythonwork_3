{
 "cells": [
  {
   "cell_type": "code",
   "execution_count": null,
   "id": "85755c25-1b3b-473f-842e-3b12f54b63fc",
   "metadata": {},
   "outputs": [],
   "source": [
    "#practice day 3 "
   ]
  },
  {
   "cell_type": "code",
   "execution_count": null,
   "id": "b4f017e7-2ede-4dd5-bf2d-b57e58f16c32",
   "metadata": {},
   "outputs": [],
   "source": [
    "introduction to lists :\n",
    "defination : lists is a collection of items declared in a particular order . \n",
    "\n",
    "we can define the lists using [] square brackets ."
   ]
  },
  {
   "cell_type": "code",
   "execution_count": null,
   "id": "a3e936a3-8c7b-4c94-bbb4-3feea2c7c527",
   "metadata": {},
   "outputs": [],
   "source": [
    "example "
   ]
  },
  {
   "cell_type": "code",
   "execution_count": 1,
   "id": "dc0f966c-ee07-4d9a-88d8-61c50d47cdf3",
   "metadata": {},
   "outputs": [
    {
     "name": "stdout",
     "output_type": "stream",
     "text": [
      "['fatma', 'riham', 'zishan', 'hoorain', 'arhaam', 'hiba', 'falak']\n"
     ]
    }
   ],
   "source": [
    "students = ['fatma','riham','zishan','hoorain','arhaam','hiba','falak']#0,1,3,4,5,6...\n",
    "print(students)"
   ]
  },
  {
   "cell_type": "code",
   "execution_count": null,
   "id": "2e4025be-e581-436c-b378-61555a8081c3",
   "metadata": {},
   "outputs": [],
   "source": [
    "introduction to indexing :#0,1,2,3,4......"
   ]
  },
  {
   "cell_type": "code",
   "execution_count": 3,
   "id": "3aea0b7a-c6f9-4ad0-a157-9e9bb57a7bd0",
   "metadata": {},
   "outputs": [
    {
     "name": "stdout",
     "output_type": "stream",
     "text": [
      "zishan\n"
     ]
    }
   ],
   "source": [
    "#requirement : print the students name zishan \n",
    "print(students[2])"
   ]
  },
  {
   "cell_type": "code",
   "execution_count": null,
   "id": "d2291dcf-f17c-4ce5-9ef2-9a7e3f4889ec",
   "metadata": {},
   "outputs": [],
   "source": [
    "#using method .title() to improvising the writing format"
   ]
  },
  {
   "cell_type": "code",
   "execution_count": 4,
   "id": "69c5c85c-0464-47bb-942f-379312ce15fd",
   "metadata": {},
   "outputs": [
    {
     "name": "stdout",
     "output_type": "stream",
     "text": [
      "Zishan\n"
     ]
    }
   ],
   "source": [
    "print(students[2].title())\n",
    "#the first letter of zishan become capital by using the method "
   ]
  },
  {
   "cell_type": "code",
   "execution_count": null,
   "id": "85f3c6c9-cfea-4f9e-b3d2-cc67e71476ea",
   "metadata": {},
   "outputs": [],
   "source": [
    "# will learn adding the new element in the list gives for eg . will add muhammad in the above list ."
   ]
  },
  {
   "cell_type": "code",
   "execution_count": 6,
   "id": "af28b4be-2c3a-4972-a0d4-1a74f5e318ac",
   "metadata": {},
   "outputs": [
    {
     "name": "stdout",
     "output_type": "stream",
     "text": [
      "['fatma', 'riham', 'zishan', 'hoorain', 'arhaam', 'hiba', 'falak', 'muhammad', 'muhammad']\n"
     ]
    }
   ],
   "source": [
    "students.append('muhammad')\n",
    "print(students)"
   ]
  },
  {
   "cell_type": "code",
   "execution_count": null,
   "id": "4c369772-219e-41e2-8ab7-32d7daf2aeca",
   "metadata": {},
   "outputs": [],
   "source": [
    "# we can observe that muhammed was added in the list and now we can see that .append method adds the elements in the lists at the end "
   ]
  },
  {
   "cell_type": "code",
   "execution_count": null,
   "id": "b0c2e0e4-6a0c-4649-abd7-272869f74a0a",
   "metadata": {},
   "outputs": [],
   "source": [
    "# requirement : to add student name sheema to add at the index no 2 in the list lets see how to do that "
   ]
  },
  {
   "cell_type": "code",
   "execution_count": 7,
   "id": "b693c11a-36fd-42be-a780-d46bbdd8a9a8",
   "metadata": {},
   "outputs": [
    {
     "name": "stdout",
     "output_type": "stream",
     "text": [
      "['fatma', 'riham', 'sheema', 'zishan', 'hoorain', 'arhaam', 'hiba', 'falak', 'muhammad', 'muhammad']\n"
     ]
    }
   ],
   "source": [
    "students.insert(2,'sheema')\n",
    "print(students)"
   ]
  },
  {
   "cell_type": "code",
   "execution_count": null,
   "id": "e9b9d08d-9cd9-45be-819f-a592e91d95d4",
   "metadata": {},
   "outputs": [],
   "source": [
    "# we can observe that sheems got added in the above list and at the particular index we wanted by using method .insert()"
   ]
  },
  {
   "cell_type": "code",
   "execution_count": null,
   "id": "62a6f1f2-31f3-4e0e-8e38-e93c1f9c4782",
   "metadata": {},
   "outputs": [],
   "source": [
    "   *important question : what is the difference between .append() and .insert() method ?\n",
    "---> the differnce between .append() and  .insert() method is thst when we use .append method the element get added at the end of the list \n",
    "and whem we use .insert() method the element get inserted into a particular index we want the similarity between bothe methods is thst it adds elements to the list"
   ]
  },
  {
   "cell_type": "code",
   "execution_count": null,
   "id": "d23954a8-9c20-4e68-970a-d40686e06558",
   "metadata": {},
   "outputs": [],
   "source": []
  },
  {
   "cell_type": "code",
   "execution_count": null,
   "id": "318ff378-2b0a-4bf2-ae53-bc234b958e1a",
   "metadata": {},
   "outputs": [],
   "source": [
    "# organising the list data type "
   ]
  },
  {
   "cell_type": "code",
   "execution_count": 9,
   "id": "61aec417-63a7-49fa-89de-e93fe6cbb4dd",
   "metadata": {},
   "outputs": [
    {
     "name": "stdout",
     "output_type": "stream",
     "text": [
      "['orange', 'mango', 'banana', 'strawberry', 'papaya', 'pineapple', 'apple', 'kiwi']\n"
     ]
    }
   ],
   "source": [
    "fruits = ['orange','mango','banana','strawberry','papaya','pineapple','apple','kiwi']\n",
    "print(fruits)"
   ]
  },
  {
   "cell_type": "code",
   "execution_count": null,
   "id": "d0434774-160d-4e79-ada7-d5ec92895f24",
   "metadata": {},
   "outputs": [],
   "source": [
    "# we will organise the list in alphabetical order ...."
   ]
  },
  {
   "cell_type": "code",
   "execution_count": null,
   "id": "dd9a94a1-b7df-4f93-bfa9-382202e1c2fd",
   "metadata": {},
   "outputs": [],
   "source": [
    "# there are two approaches for this \n",
    "*1) temprory approach =====> sorted method \n",
    "*2) permanent approach =====> sort method "
   ]
  },
  {
   "cell_type": "code",
   "execution_count": 13,
   "id": "159928a2-58cc-4a42-bbc1-432c211b86c2",
   "metadata": {},
   "outputs": [
    {
     "name": "stdout",
     "output_type": "stream",
     "text": [
      "['apple', 'banana', 'kiwi', 'mango', 'orange', 'papaya', 'pineapple', 'strawberry']\n"
     ]
    }
   ],
   "source": [
    "print(sorted(fruits))"
   ]
  },
  {
   "cell_type": "code",
   "execution_count": 14,
   "id": "1aabb973-5476-45be-be1a-52208784ec84",
   "metadata": {},
   "outputs": [
    {
     "name": "stdout",
     "output_type": "stream",
     "text": [
      "['orange', 'mango', 'banana', 'strawberry', 'papaya', 'pineapple', 'apple', 'kiwi']\n"
     ]
    }
   ],
   "source": [
    "print(fruits)\n",
    "#this is the original list whenever we use temprory approach there will b no change in the original list"
   ]
  },
  {
   "cell_type": "code",
   "execution_count": 19,
   "id": "4b2b9331-e026-4899-96d5-434775338cca",
   "metadata": {},
   "outputs": [
    {
     "name": "stdout",
     "output_type": "stream",
     "text": [
      "['apple', 'banana', 'kiwi', 'mango', 'orange', 'papaya', 'pineapple', 'strawberry']\n"
     ]
    }
   ],
   "source": [
    "fruits.sort()\n",
    "print(fruits)"
   ]
  },
  {
   "cell_type": "code",
   "execution_count": 20,
   "id": "ef2e572d-682f-4fc7-9508-853d4b34bad3",
   "metadata": {},
   "outputs": [
    {
     "name": "stdout",
     "output_type": "stream",
     "text": [
      "['apple', 'banana', 'kiwi', 'mango', 'orange', 'papaya', 'pineapple', 'strawberry']\n"
     ]
    }
   ],
   "source": [
    "print(fruits)\n",
    "#we can see after using thr permanent method the original list is changed by sort method "
   ]
  },
  {
   "cell_type": "code",
   "execution_count": null,
   "id": "fcb997e6-4131-4b4e-b11b-739246a8dc00",
   "metadata": {},
   "outputs": [],
   "source": [
    "#  want to know number of fruits in the list \n",
    "we can achive this by using len method "
   ]
  },
  {
   "cell_type": "code",
   "execution_count": 21,
   "id": "16351e4b-9df8-41af-9d3a-0ca63daebf0d",
   "metadata": {},
   "outputs": [
    {
     "data": {
      "text/plain": [
       "8"
      ]
     },
     "execution_count": 21,
     "metadata": {},
     "output_type": "execute_result"
    }
   ],
   "source": [
    "len(fruits)"
   ]
  },
  {
   "cell_type": "code",
   "execution_count": null,
   "id": "7a9ce009-a8b2-47d4-965b-a5619e4ba7ba",
   "metadata": {},
   "outputs": [],
   "source": [
    "# we did sort and sorted method arranging list in the alphabetical order but now we want to reverse it lets see how we can do it "
   ]
  },
  {
   "cell_type": "code",
   "execution_count": 23,
   "id": "e5105b99-3230-4a0c-bfe2-2b294dac1e10",
   "metadata": {},
   "outputs": [
    {
     "name": "stdout",
     "output_type": "stream",
     "text": [
      "['apple', 'banana', 'kiwi', 'mango', 'orange', 'papaya', 'pineapple', 'strawberry']\n"
     ]
    }
   ],
   "source": [
    "fruits.reverse()\n",
    "print(fruits)"
   ]
  },
  {
   "cell_type": "code",
   "execution_count": null,
   "id": "b95e6fbd-5def-49ed-af4d-223af4df044a",
   "metadata": {},
   "outputs": [],
   "source": [
    "# we can see the whole list got reversed bu usung .reverse() method "
   ]
  },
  {
   "cell_type": "code",
   "execution_count": null,
   "id": "0620b9de-8c6a-4457-974e-f504b8a2b918",
   "metadata": {},
   "outputs": [],
   "source": [
    "we will see the concept of negative indexing : (-1,-2,-3,-4.........)"
   ]
  },
  {
   "cell_type": "code",
   "execution_count": 24,
   "id": "c9a0c6d5-4146-4129-87be-a6cf9b24e8bc",
   "metadata": {},
   "outputs": [
    {
     "name": "stdout",
     "output_type": "stream",
     "text": [
      "strawberry\n"
     ]
    }
   ],
   "source": [
    "print(fruits[-1])\n",
    "#-1 refers to the last index of the list "
   ]
  },
  {
   "cell_type": "code",
   "execution_count": null,
   "id": "ecc405c4-6176-4bf6-bd48-66787171d4e1",
   "metadata": {},
   "outputs": [],
   "source": [
    "# we will use the concept if negative indexing tyo reverse the list "
   ]
  },
  {
   "cell_type": "code",
   "execution_count": 26,
   "id": "279f3393-34c0-431e-9af7-30bab2fc3d8e",
   "metadata": {},
   "outputs": [
    {
     "name": "stdout",
     "output_type": "stream",
     "text": [
      "['strawberry', 'pineapple', 'papaya', 'orange', 'mango', 'kiwi', 'banana', 'apple']\n"
     ]
    }
   ],
   "source": [
    "print(fruits[::-1])\n",
    "# we can see here [::-1] reverses the whole list"
   ]
  },
  {
   "cell_type": "code",
   "execution_count": null,
   "id": "992e8520-8251-41f2-9002-290b7d4d0081",
   "metadata": {},
   "outputs": [],
   "source": [
    "# introduction to loops statements "
   ]
  },
  {
   "cell_type": "code",
   "execution_count": null,
   "id": "98dfa78e-9da0-45c6-9209-ae04c5a1fcb7",
   "metadata": {},
   "outputs": [],
   "source": [
    "general syntax of for loops :"
   ]
  },
  {
   "cell_type": "code",
   "execution_count": null,
   "id": "299b2d88-13af-46f9-b005-f8917a2be70d",
   "metadata": {},
   "outputs": [],
   "source": [
    "for tempvar in mainvar :\n",
    "    print(tempvar)"
   ]
  },
  {
   "cell_type": "code",
   "execution_count": 29,
   "id": "3dae9194-98b0-4802-9bd9-bd1f1d3e6062",
   "metadata": {},
   "outputs": [
    {
     "name": "stdout",
     "output_type": "stream",
     "text": [
      "keep it up for your good work, Fatma\n"
     ]
    }
   ],
   "source": [
    "print(f\"keep it up for your good work, {students[0].title()}\")"
   ]
  },
  {
   "cell_type": "code",
   "execution_count": 30,
   "id": "91eb771d-9a67-469e-954a-adfc6cd212db",
   "metadata": {},
   "outputs": [
    {
     "name": "stdout",
     "output_type": "stream",
     "text": [
      "keep it up for your good work, Riham\n"
     ]
    }
   ],
   "source": [
    "print(f\"keep it up for your good work, {students[1].title()}\")"
   ]
  },
  {
   "cell_type": "code",
   "execution_count": 31,
   "id": "5647aa0e-4113-4aea-9e44-3764e6b528e7",
   "metadata": {},
   "outputs": [
    {
     "name": "stdout",
     "output_type": "stream",
     "text": [
      "keep it up for your good work, Sheema\n"
     ]
    }
   ],
   "source": [
    "print(f\"keep it up for your good work, {students[2].title()}\")"
   ]
  },
  {
   "cell_type": "code",
   "execution_count": null,
   "id": "fa2cd5b5-a5e3-4d53-99dd-a64a6a579a6f",
   "metadata": {},
   "outputs": [],
   "source": [
    "# so in the upper cells we did it manually for each students now, we will use for loops method for doing this "
   ]
  },
  {
   "cell_type": "code",
   "execution_count": 36,
   "id": "26096262-f3a4-4a17-845a-d371d8d67ad2",
   "metadata": {},
   "outputs": [
    {
     "name": "stdout",
     "output_type": "stream",
     "text": [
      "keep it up for your good work,Fatma\n",
      "keep it up for your good work,Riham\n",
      "keep it up for your good work,Sheema\n",
      "keep it up for your good work,Zishan\n",
      "keep it up for your good work,Hoorain\n",
      "keep it up for your good work,Arhaam\n",
      "keep it up for your good work,Hiba\n",
      "keep it up for your good work,Falak\n",
      "keep it up for your good work,Muhammad\n",
      "keep it up for your good work,Muhammad\n"
     ]
    }
   ],
   "source": [
    "for m in students :\n",
    "    print(f\"keep it up for your good work,{m.title()}\")"
   ]
  },
  {
   "cell_type": "code",
   "execution_count": 37,
   "id": "4efc9e1f-c28c-4ed3-b093-3457be845b4b",
   "metadata": {},
   "outputs": [
    {
     "name": "stdout",
     "output_type": "stream",
     "text": [
      "keep it up for your good work,Fatma\n",
      " please submit your assignment,Fatma\n",
      "keep it up for your good work,Riham\n",
      " please submit your assignment,Riham\n",
      "keep it up for your good work,Sheema\n",
      " please submit your assignment,Sheema\n",
      "keep it up for your good work,Zishan\n",
      " please submit your assignment,Zishan\n",
      "keep it up for your good work,Hoorain\n",
      " please submit your assignment,Hoorain\n",
      "keep it up for your good work,Arhaam\n",
      " please submit your assignment,Arhaam\n",
      "keep it up for your good work,Hiba\n",
      " please submit your assignment,Hiba\n",
      "keep it up for your good work,Falak\n",
      " please submit your assignment,Falak\n",
      "keep it up for your good work,Muhammad\n",
      " please submit your assignment,Muhammad\n",
      "keep it up for your good work,Muhammad\n",
      " please submit your assignment,Muhammad\n"
     ]
    }
   ],
   "source": [
    "for m in students :\n",
    "    print(f\"keep it up for your good work,{m.title()}\")\n",
    "    print(f\" please submit your assignment,{m.title()}\")"
   ]
  },
  {
   "cell_type": "code",
   "execution_count": null,
   "id": "6f809265-1b90-4d94-ad89-e26c664e50e7",
   "metadata": {},
   "outputs": [],
   "source": [
    "#the upper statements looks shabby and not in a well manner we can fix this by adding a new line into it"
   ]
  },
  {
   "cell_type": "code",
   "execution_count": 38,
   "id": "773b8d1b-1473-4bc6-aa7d-1f36ccb5237d",
   "metadata": {},
   "outputs": [
    {
     "name": "stdout",
     "output_type": "stream",
     "text": [
      "keep it up for your good work,Fatma\n",
      " please submit your assignment,Fatma\n",
      "\n",
      "keep it up for your good work,Riham\n",
      " please submit your assignment,Riham\n",
      "\n",
      "keep it up for your good work,Sheema\n",
      " please submit your assignment,Sheema\n",
      "\n",
      "keep it up for your good work,Zishan\n",
      " please submit your assignment,Zishan\n",
      "\n",
      "keep it up for your good work,Hoorain\n",
      " please submit your assignment,Hoorain\n",
      "\n",
      "keep it up for your good work,Arhaam\n",
      " please submit your assignment,Arhaam\n",
      "\n",
      "keep it up for your good work,Hiba\n",
      " please submit your assignment,Hiba\n",
      "\n",
      "keep it up for your good work,Falak\n",
      " please submit your assignment,Falak\n",
      "\n",
      "keep it up for your good work,Muhammad\n",
      " please submit your assignment,Muhammad\n",
      "\n",
      "keep it up for your good work,Muhammad\n",
      " please submit your assignment,Muhammad\n",
      "\n"
     ]
    }
   ],
   "source": [
    "for m in students :\n",
    "    print(f\"keep it up for your good work,{m.title()}\")\n",
    "    print(f\" please submit your assignment,{m.title()}\\n\")"
   ]
  },
  {
   "cell_type": "code",
   "execution_count": null,
   "id": "2aa41e31-2b7d-44c5-8366-3e5fb7748639",
   "metadata": {},
   "outputs": [],
   "source": [
    "# adding \\n will add a new line between the new statements"
   ]
  },
  {
   "cell_type": "code",
   "execution_count": 39,
   "id": "67265c63-de4e-46a2-be6f-55c690d1f4f7",
   "metadata": {},
   "outputs": [
    {
     "name": "stdout",
     "output_type": "stream",
     "text": [
      "keep it up for your good work,Fatma\n",
      " please submit your assignment,Fatma\n",
      "\n",
      "keep it up for your good work,Riham\n",
      " please submit your assignment,Riham\n",
      "\n",
      "keep it up for your good work,Sheema\n",
      " please submit your assignment,Sheema\n",
      "\n",
      "keep it up for your good work,Zishan\n",
      " please submit your assignment,Zishan\n",
      "\n",
      "keep it up for your good work,Hoorain\n",
      " please submit your assignment,Hoorain\n",
      "\n",
      "keep it up for your good work,Arhaam\n",
      " please submit your assignment,Arhaam\n",
      "\n",
      "keep it up for your good work,Hiba\n",
      " please submit your assignment,Hiba\n",
      "\n",
      "keep it up for your good work,Falak\n",
      " please submit your assignment,Falak\n",
      "\n",
      "keep it up for your good work,Muhammad\n",
      " please submit your assignment,Muhammad\n",
      "\n",
      "keep it up for your good work,Muhammad\n",
      " please submit your assignment,Muhammad\n",
      "\n",
      "thankyou for your assignments\n"
     ]
    }
   ],
   "source": [
    "for m in students :\n",
    "    print(f\"keep it up for your good work,{m.title()}\")\n",
    "    print(f\" please submit your assignment,{m.title()}\\n\")\n",
    "\n",
    "print(\"thankyou for your assignments\")\n",
    "\n",
    "#we can seee the last string we added is out of the loop so we to be inside the loop we need to maintain the indentation "
   ]
  },
  {
   "cell_type": "code",
   "execution_count": null,
   "id": "63e0f222-33b9-4cd3-a352-5561ae4de1f4",
   "metadata": {},
   "outputs": [],
   "source": []
  }
 ],
 "metadata": {
  "kernelspec": {
   "display_name": "Python 3 (ipykernel)",
   "language": "python",
   "name": "python3"
  },
  "language_info": {
   "codemirror_mode": {
    "name": "ipython",
    "version": 3
   },
   "file_extension": ".py",
   "mimetype": "text/x-python",
   "name": "python",
   "nbconvert_exporter": "python",
   "pygments_lexer": "ipython3",
   "version": "3.13.5"
  }
 },
 "nbformat": 4,
 "nbformat_minor": 5
}
